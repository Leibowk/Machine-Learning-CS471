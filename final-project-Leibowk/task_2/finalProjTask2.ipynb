{
 "cells": [
  {
   "cell_type": "code",
   "execution_count": 5,
   "metadata": {},
   "outputs": [],
   "source": [
    "'''\n",
    "Kyle Leibowitz\n",
    "CS471 Machine Learning\n",
    "Kameron Harris\n",
    "Gitrepo: leibowk@wwu.edu\n",
    "'''\n",
    "\n",
    "import numpy as np\n",
    "from sklearn.ensemble import RandomForestClassifier\n",
    "from sklearn.neighbors import KNeighborsClassifier\n",
    "from sklearn.tree import DecisionTreeClassifier\n",
    "from sklearn.ensemble import RandomForestClassifier, AdaBoostClassifier, GradientBoostingClassifier\n",
    "from sklearn.linear_model import LogisticRegression\n",
    "from sklearn.naive_bayes import GaussianNB\n",
    "import matplotlib.pyplot as plt\n",
    "from sklearn.utils.class_weight import compute_class_weight\n",
    "from sklearn import metrics\n",
    "import math"
   ]
  },
  {
   "cell_type": "code",
   "execution_count": 2,
   "metadata": {},
   "outputs": [],
   "source": [
    "def getFitNValid(X, y, fit):\n",
    "    n,_ = X.shape\n",
    "    rowsFit = math.floor(fit*n)\n",
    "    return X[:rowsFit, :], X[rowsFit:, :], y[:rowsFit], y[rowsFit:]\n",
    "\n",
    "def testHyperparam(n_estimat, xTrain,yTrain, xValid, yValid):\n",
    "    clasf=RandomForestClassifier(n_estimators=n_estimat, class_weight = 'balanced')\n",
    "    clasf.fit(xTrain,yTrain)\n",
    "    yPred=clasf.predict(xValid)\n",
    "    print(\"N currently is: \", n_estimat, ' Bal Acc Score is:', metrics.balanced_accuracy_score(yValid, yPred))\n",
    "    return metrics.balanced_accuracy_score(yValid, yPred)"
   ]
  },
  {
   "cell_type": "code",
   "execution_count": 3,
   "metadata": {},
   "outputs": [],
   "source": [
    "X_train = np.loadtxt(\"X_train\", delimiter = \",\")\n",
    "y_train = np.loadtxt(\"y_train\", delimiter = \",\")\n",
    "X_test = np.loadtxt(\"X_test\", delimiter = \",\")"
   ]
  },
  {
   "cell_type": "code",
   "execution_count": 4,
   "metadata": {},
   "outputs": [],
   "source": [
    "#xGetError and yGetError for finding error rate.\n",
    "xGetParams, xGetError, yGetParams, yGetError = getFitNValid(X_train, y_train, .8)\n",
    "\n",
    "#xTrain and yTrain for training, xValid, yValid for hyperparamater selection\n",
    "xTrain, xValid, yTrain, yValid = getFitNValid(xGetParams, yGetParams, .9)\n",
    "\n",
    "#really small for testing\n",
    "xTrainS, xValidS, yTrainS, yValidS = getFitNValid(xGetParams, yGetParams, .05)"
   ]
  },
  {
   "cell_type": "code",
   "execution_count": 9,
   "metadata": {},
   "outputs": [
    {
     "name": "stdout",
     "output_type": "stream",
     "text": [
      " Bal Acc Score for GradientBoostingClassifier is: 0.6301856853641666\n"
     ]
    }
   ],
   "source": [
    "# #Testing RandomForestClassifier\n",
    "# clasf=RandomForestClassifier(n_estimators=12, class_weight = 'balanced')\n",
    "# clasf.fit(xTrain,yTrain)\n",
    "# yPredError=clasf.predict(xValid)\n",
    "# print(' Bal Acc Score for Random Forest Classifier is:', metrics.balanced_accuracy_score(yPredError, yValid))\n",
    "\n",
    "# #Testing KNeighborsClassifier\n",
    "# clasf=KNeighborsClassifier()\n",
    "# clasf.fit(xTrain,yTrain)\n",
    "# yPredError=clasf.predict(xValid)\n",
    "# print(' Bal Acc Score for K Neighbors Classifier is:', metrics.balanced_accuracy_score(yPredError, yValid))\n",
    "\n",
    "# #Testing DecisionTreeClassifier\n",
    "# clasf=DecisionTreeClassifier(class_weight = 'balanced')\n",
    "# clasf.fit(xTrain,yTrain)\n",
    "# yPredError=clasf.predict(xValid)\n",
    "# print(' Bal Acc Score for DecisionTreeClassifier is:', metrics.balanced_accuracy_score(yPredError, yValid))\n",
    "\n",
    "# #Testing AdaBoostClassifier\n",
    "# clasf=AdaBoostClassifier()\n",
    "# clasf.fit(xTrain,yTrain)\n",
    "# yPredError=clasf.predict(xValid)\n",
    "# print(' Bal Acc Score for AdaBoostClassifier is:', metrics.balanced_accuracy_score(yPredError, yValid))\n",
    "\n",
    "#Testing GradientBoostingClassifier\n",
    "clasf=GradientBoostingClassifier()\n",
    "clasf.fit(xTrain,yTrain)\n",
    "yPredError=clasf.predict(xValid)\n",
    "print(' Bal Acc Score for GradientBoostingClassifier is:', metrics.balanced_accuracy_score(yPredError, yValid))"
   ]
  },
  {
   "cell_type": "code",
   "execution_count": 14,
   "metadata": {},
   "outputs": [
    {
     "name": "stderr",
     "output_type": "stream",
     "text": [
      "/home/leibowk/.local/lib/python3.6/site-packages/sklearn/metrics/_classification.py:1814: UserWarning: y_pred contains classes not in y_true\n",
      "  warnings.warn('y_pred contains classes not in y_true')\n"
     ]
    },
    {
     "name": "stdout",
     "output_type": "stream",
     "text": [
      " Bal Acc Score for 1 GradientBoostingClassifier is: 0.5948005271354978\n"
     ]
    },
    {
     "name": "stderr",
     "output_type": "stream",
     "text": [
      "/home/leibowk/.local/lib/python3.6/site-packages/sklearn/metrics/_classification.py:1814: UserWarning: y_pred contains classes not in y_true\n",
      "  warnings.warn('y_pred contains classes not in y_true')\n"
     ]
    },
    {
     "name": "stdout",
     "output_type": "stream",
     "text": [
      " Bal Acc Score for 11 GradientBoostingClassifier is: 0.6463513471925746\n"
     ]
    },
    {
     "name": "stderr",
     "output_type": "stream",
     "text": [
      "/home/leibowk/.local/lib/python3.6/site-packages/sklearn/metrics/_classification.py:1814: UserWarning: y_pred contains classes not in y_true\n",
      "  warnings.warn('y_pred contains classes not in y_true')\n"
     ]
    },
    {
     "name": "stdout",
     "output_type": "stream",
     "text": [
      " Bal Acc Score for 21 GradientBoostingClassifier is: 0.6485327157807923\n"
     ]
    },
    {
     "ename": "KeyboardInterrupt",
     "evalue": "",
     "output_type": "error",
     "traceback": [
      "\u001b[0;31m---------------------------------------------------------------------------\u001b[0m",
      "\u001b[0;31mKeyboardInterrupt\u001b[0m                         Traceback (most recent call last)",
      "\u001b[0;32m<ipython-input-14-f3fbed3cbe70>\u001b[0m in \u001b[0;36m<module>\u001b[0;34m\u001b[0m\n\u001b[1;32m      4\u001b[0m \u001b[0;32mwhile\u001b[0m \u001b[0mn_estimat\u001b[0m \u001b[0;34m<\u001b[0m \u001b[0;36m100\u001b[0m\u001b[0;34m:\u001b[0m\u001b[0;34m\u001b[0m\u001b[0;34m\u001b[0m\u001b[0m\n\u001b[1;32m      5\u001b[0m     \u001b[0mclasf\u001b[0m\u001b[0;34m=\u001b[0m\u001b[0mGradientBoostingClassifier\u001b[0m\u001b[0;34m(\u001b[0m\u001b[0mn_estimators\u001b[0m \u001b[0;34m=\u001b[0m \u001b[0mn_estimat\u001b[0m\u001b[0;34m)\u001b[0m\u001b[0;34m\u001b[0m\u001b[0;34m\u001b[0m\u001b[0m\n\u001b[0;32m----> 6\u001b[0;31m     \u001b[0mclasf\u001b[0m\u001b[0;34m.\u001b[0m\u001b[0mfit\u001b[0m\u001b[0;34m(\u001b[0m\u001b[0mxTrain\u001b[0m\u001b[0;34m,\u001b[0m\u001b[0myTrain\u001b[0m\u001b[0;34m)\u001b[0m\u001b[0;34m\u001b[0m\u001b[0;34m\u001b[0m\u001b[0m\n\u001b[0m\u001b[1;32m      7\u001b[0m     \u001b[0myPredError\u001b[0m\u001b[0;34m=\u001b[0m\u001b[0mclasf\u001b[0m\u001b[0;34m.\u001b[0m\u001b[0mpredict\u001b[0m\u001b[0;34m(\u001b[0m\u001b[0mxValid\u001b[0m\u001b[0;34m)\u001b[0m\u001b[0;34m\u001b[0m\u001b[0;34m\u001b[0m\u001b[0m\n\u001b[1;32m      8\u001b[0m     \u001b[0mbalAccScore\u001b[0m \u001b[0;34m=\u001b[0m \u001b[0mmetrics\u001b[0m\u001b[0;34m.\u001b[0m\u001b[0mbalanced_accuracy_score\u001b[0m\u001b[0;34m(\u001b[0m\u001b[0myPredError\u001b[0m\u001b[0;34m,\u001b[0m \u001b[0myValid\u001b[0m\u001b[0;34m)\u001b[0m\u001b[0;34m\u001b[0m\u001b[0;34m\u001b[0m\u001b[0m\n",
      "\u001b[0;32m~/.local/lib/python3.6/site-packages/sklearn/ensemble/_gb.py\u001b[0m in \u001b[0;36mfit\u001b[0;34m(self, X, y, sample_weight, monitor)\u001b[0m\n\u001b[1;32m    498\u001b[0m         n_stages = self._fit_stages(\n\u001b[1;32m    499\u001b[0m             \u001b[0mX\u001b[0m\u001b[0;34m,\u001b[0m \u001b[0my\u001b[0m\u001b[0;34m,\u001b[0m \u001b[0mraw_predictions\u001b[0m\u001b[0;34m,\u001b[0m \u001b[0msample_weight\u001b[0m\u001b[0;34m,\u001b[0m \u001b[0mself\u001b[0m\u001b[0;34m.\u001b[0m\u001b[0m_rng\u001b[0m\u001b[0;34m,\u001b[0m \u001b[0mX_val\u001b[0m\u001b[0;34m,\u001b[0m \u001b[0my_val\u001b[0m\u001b[0;34m,\u001b[0m\u001b[0;34m\u001b[0m\u001b[0;34m\u001b[0m\u001b[0m\n\u001b[0;32m--> 500\u001b[0;31m             sample_weight_val, begin_at_stage, monitor, X_idx_sorted)\n\u001b[0m\u001b[1;32m    501\u001b[0m \u001b[0;34m\u001b[0m\u001b[0m\n\u001b[1;32m    502\u001b[0m         \u001b[0;31m# change shape of arrays after fit (early-stopping or additional ests)\u001b[0m\u001b[0;34m\u001b[0m\u001b[0;34m\u001b[0m\u001b[0;34m\u001b[0m\u001b[0m\n",
      "\u001b[0;32m~/.local/lib/python3.6/site-packages/sklearn/ensemble/_gb.py\u001b[0m in \u001b[0;36m_fit_stages\u001b[0;34m(self, X, y, raw_predictions, sample_weight, random_state, X_val, y_val, sample_weight_val, begin_at_stage, monitor, X_idx_sorted)\u001b[0m\n\u001b[1;32m    555\u001b[0m             raw_predictions = self._fit_stage(\n\u001b[1;32m    556\u001b[0m                 \u001b[0mi\u001b[0m\u001b[0;34m,\u001b[0m \u001b[0mX\u001b[0m\u001b[0;34m,\u001b[0m \u001b[0my\u001b[0m\u001b[0;34m,\u001b[0m \u001b[0mraw_predictions\u001b[0m\u001b[0;34m,\u001b[0m \u001b[0msample_weight\u001b[0m\u001b[0;34m,\u001b[0m \u001b[0msample_mask\u001b[0m\u001b[0;34m,\u001b[0m\u001b[0;34m\u001b[0m\u001b[0;34m\u001b[0m\u001b[0m\n\u001b[0;32m--> 557\u001b[0;31m                 random_state, X_idx_sorted, X_csc, X_csr)\n\u001b[0m\u001b[1;32m    558\u001b[0m \u001b[0;34m\u001b[0m\u001b[0m\n\u001b[1;32m    559\u001b[0m             \u001b[0;31m# track deviance (= loss)\u001b[0m\u001b[0;34m\u001b[0m\u001b[0;34m\u001b[0m\u001b[0;34m\u001b[0m\u001b[0m\n",
      "\u001b[0;32m~/.local/lib/python3.6/site-packages/sklearn/ensemble/_gb.py\u001b[0m in \u001b[0;36m_fit_stage\u001b[0;34m(self, i, X, y, raw_predictions, sample_weight, sample_mask, random_state, X_idx_sorted, X_csc, X_csr)\u001b[0m\n\u001b[1;32m    210\u001b[0m             \u001b[0mX\u001b[0m \u001b[0;34m=\u001b[0m \u001b[0mX_csr\u001b[0m \u001b[0;32mif\u001b[0m \u001b[0mX_csr\u001b[0m \u001b[0;32mis\u001b[0m \u001b[0;32mnot\u001b[0m \u001b[0;32mNone\u001b[0m \u001b[0;32melse\u001b[0m \u001b[0mX\u001b[0m\u001b[0;34m\u001b[0m\u001b[0;34m\u001b[0m\u001b[0m\n\u001b[1;32m    211\u001b[0m             tree.fit(X, residual, sample_weight=sample_weight,\n\u001b[0;32m--> 212\u001b[0;31m                      check_input=False, X_idx_sorted=X_idx_sorted)\n\u001b[0m\u001b[1;32m    213\u001b[0m \u001b[0;34m\u001b[0m\u001b[0m\n\u001b[1;32m    214\u001b[0m             \u001b[0;31m# update tree leaves\u001b[0m\u001b[0;34m\u001b[0m\u001b[0;34m\u001b[0m\u001b[0;34m\u001b[0m\u001b[0m\n",
      "\u001b[0;32m~/.local/lib/python3.6/site-packages/sklearn/tree/_classes.py\u001b[0m in \u001b[0;36mfit\u001b[0;34m(self, X, y, sample_weight, check_input, X_idx_sorted)\u001b[0m\n\u001b[1;32m   1244\u001b[0m             \u001b[0msample_weight\u001b[0m\u001b[0;34m=\u001b[0m\u001b[0msample_weight\u001b[0m\u001b[0;34m,\u001b[0m\u001b[0;34m\u001b[0m\u001b[0;34m\u001b[0m\u001b[0m\n\u001b[1;32m   1245\u001b[0m             \u001b[0mcheck_input\u001b[0m\u001b[0;34m=\u001b[0m\u001b[0mcheck_input\u001b[0m\u001b[0;34m,\u001b[0m\u001b[0;34m\u001b[0m\u001b[0;34m\u001b[0m\u001b[0m\n\u001b[0;32m-> 1246\u001b[0;31m             X_idx_sorted=X_idx_sorted)\n\u001b[0m\u001b[1;32m   1247\u001b[0m         \u001b[0;32mreturn\u001b[0m \u001b[0mself\u001b[0m\u001b[0;34m\u001b[0m\u001b[0;34m\u001b[0m\u001b[0m\n\u001b[1;32m   1248\u001b[0m \u001b[0;34m\u001b[0m\u001b[0m\n",
      "\u001b[0;32m~/.local/lib/python3.6/site-packages/sklearn/tree/_classes.py\u001b[0m in \u001b[0;36mfit\u001b[0;34m(self, X, y, sample_weight, check_input, X_idx_sorted)\u001b[0m\n\u001b[1;32m    373\u001b[0m                                            min_impurity_split)\n\u001b[1;32m    374\u001b[0m \u001b[0;34m\u001b[0m\u001b[0m\n\u001b[0;32m--> 375\u001b[0;31m         \u001b[0mbuilder\u001b[0m\u001b[0;34m.\u001b[0m\u001b[0mbuild\u001b[0m\u001b[0;34m(\u001b[0m\u001b[0mself\u001b[0m\u001b[0;34m.\u001b[0m\u001b[0mtree_\u001b[0m\u001b[0;34m,\u001b[0m \u001b[0mX\u001b[0m\u001b[0;34m,\u001b[0m \u001b[0my\u001b[0m\u001b[0;34m,\u001b[0m \u001b[0msample_weight\u001b[0m\u001b[0;34m,\u001b[0m \u001b[0mX_idx_sorted\u001b[0m\u001b[0;34m)\u001b[0m\u001b[0;34m\u001b[0m\u001b[0;34m\u001b[0m\u001b[0m\n\u001b[0m\u001b[1;32m    376\u001b[0m \u001b[0;34m\u001b[0m\u001b[0m\n\u001b[1;32m    377\u001b[0m         \u001b[0;32mif\u001b[0m \u001b[0mself\u001b[0m\u001b[0;34m.\u001b[0m\u001b[0mn_outputs_\u001b[0m \u001b[0;34m==\u001b[0m \u001b[0;36m1\u001b[0m \u001b[0;32mand\u001b[0m \u001b[0mis_classifier\u001b[0m\u001b[0;34m(\u001b[0m\u001b[0mself\u001b[0m\u001b[0;34m)\u001b[0m\u001b[0;34m:\u001b[0m\u001b[0;34m\u001b[0m\u001b[0;34m\u001b[0m\u001b[0m\n",
      "\u001b[0;31mKeyboardInterrupt\u001b[0m: "
     ]
    }
   ],
   "source": [
    "bestHyper = 0\n",
    "bestBalAccScore = 0\n",
    "n_estimat = 1\n",
    "while n_estimat < 100:\n",
    "    clasf=GradientBoostingClassifier(n_estimators = n_estimat)\n",
    "    clasf.fit(xTrain,yTrain)\n",
    "    yPredError=clasf.predict(xValid)\n",
    "    balAccScore = metrics.balanced_accuracy_score(yPredError, yValid)\n",
    "    print(' Bal Acc Score for',  n_estimat, 'GradientBoostingClassifier is:', balAccScore)\n",
    "    if balAccScore > bestBalAccScore:\n",
    "        bestBalAccScore = balAccScore\n",
    "        bestHyper = n_estimat\n",
    "    n_estimat += 10\n",
    "print(\"Final Hyper paramater was: \", bestHyper, \" which gave a balance accuracy score of: \", bestBalAccScore)"
   ]
  },
  {
   "cell_type": "code",
   "execution_count": 8,
   "metadata": {},
   "outputs": [
    {
     "name": "stdout",
     "output_type": "stream",
     "text": [
      "N currently is:  1  Bal Acc Score is: 0.42186730682685697\n",
      " Bal Acc Score for 1 Random Forest Classifier is: 0.42186730682685697\n",
      "N currently is:  2  Bal Acc Score is: 0.434831248938177\n",
      " Bal Acc Score for 2 Random Forest Classifier is: 0.434831248938177\n",
      "N currently is:  3  Bal Acc Score is: 0.45500863495788124\n",
      " Bal Acc Score for 3 Random Forest Classifier is: 0.45500863495788124\n",
      "N currently is:  4  Bal Acc Score is: 0.44370164781590615\n",
      " Bal Acc Score for 4 Random Forest Classifier is: 0.44370164781590615\n",
      "N currently is:  5  Bal Acc Score is: 0.4668485182611926\n",
      " Bal Acc Score for 5 Random Forest Classifier is: 0.4668485182611926\n",
      "N currently is:  6  Bal Acc Score is: 0.45485382806289026\n",
      " Bal Acc Score for 6 Random Forest Classifier is: 0.45485382806289026\n",
      "N currently is:  7  Bal Acc Score is: 0.45299002311694253\n",
      " Bal Acc Score for 7 Random Forest Classifier is: 0.45299002311694253\n",
      "N currently is:  8  Bal Acc Score is: 0.4590222682662681\n",
      " Bal Acc Score for 8 Random Forest Classifier is: 0.4590222682662681\n",
      "N currently is:  9  Bal Acc Score is: 0.4605033143649541\n",
      " Bal Acc Score for 9 Random Forest Classifier is: 0.4605033143649541\n",
      "N currently is:  10  Bal Acc Score is: 0.46005908523208516\n",
      " Bal Acc Score for 10 Random Forest Classifier is: 0.46005908523208516\n",
      "N currently is:  11  Bal Acc Score is: 0.45976995799076753\n",
      " Bal Acc Score for 11 Random Forest Classifier is: 0.45976995799076753\n",
      "N currently is:  12  Bal Acc Score is: 0.4531791345307974\n",
      " Bal Acc Score for 12 Random Forest Classifier is: 0.4531791345307974\n",
      "N currently is:  13  Bal Acc Score is: 0.4561057602553196\n",
      " Bal Acc Score for 13 Random Forest Classifier is: 0.4561057602553196\n",
      "N currently is:  14  Bal Acc Score is: 0.4629892423822512\n",
      " Bal Acc Score for 14 Random Forest Classifier is: 0.4629892423822512\n",
      "N currently is:  15  Bal Acc Score is: 0.4644896899879268\n",
      " Bal Acc Score for 15 Random Forest Classifier is: 0.4644896899879268\n",
      "N currently is:  16  Bal Acc Score is: 0.46000213168459253\n",
      " Bal Acc Score for 16 Random Forest Classifier is: 0.46000213168459253\n",
      "N currently is:  17  Bal Acc Score is: 0.46013046991297674\n",
      " Bal Acc Score for 17 Random Forest Classifier is: 0.46013046991297674\n",
      "N currently is:  18  Bal Acc Score is: 0.46032200695281206\n",
      " Bal Acc Score for 18 Random Forest Classifier is: 0.46032200695281206\n",
      "N currently is:  19  Bal Acc Score is: 0.4529358909178438\n",
      " Bal Acc Score for 19 Random Forest Classifier is: 0.4529358909178438\n"
     ]
    },
    {
     "data": {
      "image/png": "[encoded data removed]",
      "text/plain": [
       "<matplotlib.figure.Figure at 0x7faba4545b70>"
      ]
     },
     "metadata": {
      "needs_background": "light"
     },
     "output_type": "display_data"
    },
    {
     "name": "stdout",
     "output_type": "stream",
     "text": [
      "Final Hyper paramater was:  5  which gave a balance accuracy score of:  0.4668485182611926\n"
     ]
    }
   ],
   "source": [
    "bestHyper = 0\n",
    "bestBalAccScore = 0\n",
    "balAccScoreList = []\n",
    "itter = []\n",
    "for n_estimat in range(1, 20):\n",
    "    balAccScore = testHyperparam(n_estimat, xTrain,yTrain, xValid, yValid)\n",
    "    balAccScoreList.append(balAccScore)\n",
    "    itter.append(n_estimat)\n",
    "    print(' Bal Acc Score for',  n_estimat, 'Random Forest Classifier is:', balAccScore)\n",
    "    if balAccScore > bestBalAccScore:\n",
    "        bestBalAccScore = balAccScore\n",
    "        bestHyper = n_estimat\n",
    "plt.plot(itter, balAccScoreList)\n",
    "plt.title(\"Balanced Accuracey Score by N_Estimators\", fontsize=12) \n",
    "plt.xlabel('N_estimator')\n",
    "plt.ylabel('Balanced Accuracey Score')\n",
    "plt.show()\n",
    "print(\"Final Hyper paramater was: \", bestHyper, \" which gave a balance accuracy score of: \", bestBalAccScore)"
   ]
  },
  {
   "cell_type": "code",
   "execution_count": 9,
   "metadata": {},
   "outputs": [
    {
     "name": "stdout",
     "output_type": "stream",
     "text": [
      " Bal Acc Score is: 0.45491187902295294\n"
     ]
    }
   ],
   "source": [
    "#Final Execution\n",
    "clasf=RandomForestClassifier(n_estimators= bestHyper, class_weight = 'balanced', n_jobs = -1)\n",
    "clasf.fit(xGetParams,yGetParams)\n",
    "yPredError=clasf.predict(xGetError)\n",
    "print(' Bal Acc Score is:', metrics.balanced_accuracy_score(yGetError, yPredError))"
   ]
  },
  {
   "cell_type": "code",
   "execution_count": 10,
   "metadata": {},
   "outputs": [],
   "source": [
    "yPredTest=clasf.predict(X_test)"
   ]
  },
  {
   "cell_type": "code",
   "execution_count": 11,
   "metadata": {},
   "outputs": [],
   "source": [
    "f = open(\"predictions_here\", \"w\")\n",
    "np.savetxt(f, yPredTest)"
   ]
  },
  {
   "cell_type": "code",
   "execution_count": 12,
   "metadata": {},
   "outputs": [
    {
     "name": "stdout",
     "output_type": "stream",
     "text": [
      "0.45491187902295294\n"
     ]
    },
    {
     "data": {
      "text/plain": [
       "19"
      ]
     },
     "execution_count": 12,
     "metadata": {},
     "output_type": "execute_result"
    }
   ],
   "source": [
    "stringTest = str(metrics.balanced_accuracy_score(yGetError, yPredError))\n",
    "print(stringTest)\n",
    "f2 = open(\"error_pred.txt\", \"w\")\n",
    "f2.write('Estimated balance accuracy score is: ')\n",
    "f2.write(stringTest)"
   ]
  },
  {
   "cell_type": "code",
   "execution_count": null,
   "metadata": {},
   "outputs": [],
   "source": []
  },
  {
   "cell_type": "code",
   "execution_count": null,
   "metadata": {},
   "outputs": [],
   "source": []
  }
 ],
 "metadata": {
  "kernelspec": {
   "display_name": "Python 3",
   "language": "python",
   "name": "python3"
  },
  "language_info": {
   "codemirror_mode": {
    "name": "ipython",
    "version": 3
   },
   "file_extension": ".py",
   "mimetype": "text/x-python",
   "name": "python",
   "nbconvert_exporter": "python",
   "pygments_lexer": "ipython3",
   "version": "3.6.9"
  }
 },
 "nbformat": 4,
 "nbformat_minor": 4
}
